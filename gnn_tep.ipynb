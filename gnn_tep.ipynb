{
 "cells": [
  {
   "cell_type": "code",
   "execution_count": 1,
   "id": "9c7b0f71e619d86e",
   "metadata": {
    "ExecuteTime": {
     "end_time": "2024-07-30T08:58:19.488121Z",
     "start_time": "2024-07-30T08:58:15.248768Z"
    }
   },
   "outputs": [
    {
     "name": "stdout",
     "output_type": "stream",
     "text": [
      "Collecting git+https://github.com/airi-industrial-ai/fddbenchmark\n",
      "  Cloning https://github.com/airi-industrial-ai/fddbenchmark to /tmp/pip-req-build-37fi96u0\n",
      "  Running command git clone -q https://github.com/airi-industrial-ai/fddbenchmark /tmp/pip-req-build-37fi96u0\n",
      "  23:03:54.992496 git.c:439               trace: built-in: git clone -q https://github.com/airi-industrial-ai/fddbenchmark /tmp/pip-req-build-37fi96u0\n",
      "  23:03:55.000580 run-command.c:663       trace: run_command: git-remote-https origin https://github.com/airi-industrial-ai/fddbenchmark\n",
      "  * Couldn't find host github.com in the .netrc file; using defaults\n",
      "  *   Trying 140.82.121.4:443...\n",
      "  * TCP_NODELAY set\n",
      "  * Connected to github.com (140.82.121.4) port 443 (#0)\n",
      "  * found 413 certificates in /etc/ssl/certs\n",
      "  * ALPN, offering h2\n",
      "  * ALPN, offering http/1.1\n",
      "  * SSL connection using TLS1.3 / ECDHE_RSA_AES_128_GCM_SHA256\n",
      "  * \t server certificate verification OK\n",
      "  * \t server certificate status verification SKIPPED\n",
      "  * \t common name: github.com (matched)\n",
      "  * \t server certificate expiration date OK\n",
      "  * \t server certificate activation date OK\n",
      "  * \t certificate public key: EC/ECDSA\n",
      "  * \t certificate version: #3\n",
      "  * \t subject: CN=github.com\n",
      "  * \t start date: Thu, 07 Mar 2024 00:00:00 GMT\n",
      "  * \t expire date: Fri, 07 Mar 2025 23:59:59 GMT\n",
      "  * \t issuer: C=GB,ST=Greater Manchester,L=Salford,O=Sectigo Limited,CN=Sectigo ECC Domain Validation Secure Server CA\n",
      "  * ALPN, server accepted to use h2\n",
      "  * Using HTTP2, server supports multi-use\n",
      "  * Connection state changed (HTTP/2 confirmed)\n",
      "  * Copying HTTP/2 data in stream buffer to connection buffer after upgrade: len=0\n",
      "  * Using Stream ID: 1 (easy handle 0x55c3f7b7b1c0)\n",
      "  > GET /airi-industrial-ai/fddbenchmark/info/refs?service=git-upload-pack HTTP/2\n",
      "  Host: github.com\n",
      "  user-agent: git/2.25.1\n",
      "  accept: */*\n",
      "  accept-encoding: deflate, gzip, br\n",
      "  accept-language: C, *;q=0.9\n",
      "  pragma: no-cache\n",
      "\n",
      "  * Connection state changed (MAX_CONCURRENT_STREAMS == 100)!\n",
      "  < HTTP/2 200\n",
      "  < server: GitHub-Babel/3.0\n",
      "  < content-type: application/x-git-upload-pack-advertisement\n",
      "  < content-security-policy: default-src 'none'; sandbox\n",
      "  < expires: Fri, 01 Jan 1980 00:00:00 GMT\n",
      "  < pragma: no-cache\n",
      "  < cache-control: no-cache, max-age=0, must-revalidate\n",
      "  < vary: Accept-Encoding\n",
      "  < date: Tue, 30 Jul 2024 20:21:24 GMT\n",
      "  < x-frame-options: DENY\n",
      "  < x-github-request-id: DB4A:39B3DF:186B06:18E91A:66A94B44\n",
      "  <\n",
      "  * Connection #0 to host github.com left intact\n",
      "  23:03:55.753104 pkt-line.c:80           packet:          git< # service=git-upload-pack\n",
      "  23:03:55.753196 pkt-line.c:80           packet:          git< 0000\n",
      "  23:03:55.753242 pkt-line.c:80           packet:          git< 0d1b9c0f115835552b39fb9a72c6c319c35c767d HEAD\\0multi_ack thin-pack side-band side-band-64k ofs-delta shallow deepen-since deepen-not deepen-relative no-progress include-tag multi_ack_detailed allow-tip-sha1-in-want allow-reachable-sha1-in-want no-done symref=HEAD:refs/heads/main filter object-format=sha1 agent=git/github-9397d7bcf330\n",
      "  23:03:55.753330 pkt-line.c:80           packet:          git< 0d1b9c0f115835552b39fb9a72c6c319c35c767d refs/heads/main\n",
      "  23:03:55.753339 pkt-line.c:80           packet:          git< b532144a92b62dc91b9f4a770e3cc1b23826d392 refs/heads/vpozdnyakov-getitem\n",
      "  23:03:55.753342 pkt-line.c:80           packet:          git< b532144a92b62dc91b9f4a770e3cc1b23826d392 refs/pull/2/head\n",
      "  23:03:55.753347 pkt-line.c:80           packet:          git< a6182dedae22147393ede2b99ead98481625d6c5 refs/tags/v0.0.1\n",
      "  23:03:55.753350 pkt-line.c:80           packet:          git< 5fb254867ba287e91268d4274cee598d5ba2e4e7 refs/tags/v0.0.2\n",
      "  23:03:55.753353 pkt-line.c:80           packet:          git< e72ed9009f5a51bea208da9a7e35c810db6d8efd refs/tags/v0.0.3\n",
      "  23:03:55.753356 pkt-line.c:80           packet:          git< 0000\n",
      "  23:03:55.756052 pkt-line.c:80           packet:          git> 0d1b9c0f115835552b39fb9a72c6c319c35c767d refs/heads/main\n",
      "  23:03:55.756109 pkt-line.c:80           packet:          git> 0d1b9c0f115835552b39fb9a72c6c319c35c767d refs/heads/main\n",
      "  23:03:55.756116 pkt-line.c:80           packet:          git> b532144a92b62dc91b9f4a770e3cc1b23826d392 refs/heads/vpozdnyakov-getitem\n",
      "  23:03:55.756119 pkt-line.c:80           packet:          git> a6182dedae22147393ede2b99ead98481625d6c5 refs/tags/v0.0.1\n",
      "  23:03:55.756122 pkt-line.c:80           packet:          git> 5fb254867ba287e91268d4274cee598d5ba2e4e7 refs/tags/v0.0.2\n",
      "  23:03:55.756124 pkt-line.c:80           packet:          git> e72ed9009f5a51bea208da9a7e35c810db6d8efd refs/tags/v0.0.3\n",
      "  23:03:55.756126 pkt-line.c:80           packet:          git> 0000\n",
      "  23:03:55.756208 run-command.c:663       trace: run_command: git fetch-pack --stateless-rpc --stdin --lock-pack --thin --check-self-contained-and-connected --cloning --no-progress https://github.com/airi-industrial-ai/fddbenchmark/\n",
      "  23:03:55.761508 git.c:439               trace: built-in: git fetch-pack --stateless-rpc --stdin --lock-pack --thin --check-self-contained-and-connected --cloning --no-progress https://github.com/airi-industrial-ai/fddbenchmark/\n",
      "  23:03:55.761826 pkt-line.c:80           packet:   fetch-pack< 0d1b9c0f115835552b39fb9a72c6c319c35c767d refs/heads/main\n",
      "  23:03:55.761944 pkt-line.c:80           packet:   fetch-pack< 0d1b9c0f115835552b39fb9a72c6c319c35c767d refs/heads/main\n",
      "  23:03:55.761955 pkt-line.c:80           packet:   fetch-pack< b532144a92b62dc91b9f4a770e3cc1b23826d392 refs/heads/vpozdnyakov-getitem\n",
      "  23:03:55.761959 pkt-line.c:80           packet:   fetch-pack< a6182dedae22147393ede2b99ead98481625d6c5 refs/tags/v0.0.1\n",
      "  23:03:55.761962 pkt-line.c:80           packet:   fetch-pack< 5fb254867ba287e91268d4274cee598d5ba2e4e7 refs/tags/v0.0.2\n",
      "  23:03:55.761965 pkt-line.c:80           packet:   fetch-pack< e72ed9009f5a51bea208da9a7e35c810db6d8efd refs/tags/v0.0.3\n",
      "  23:03:55.761968 pkt-line.c:80           packet:   fetch-pack< 0000\n",
      "  23:03:55.761973 pkt-line.c:80           packet:   fetch-pack< 0d1b9c0f115835552b39fb9a72c6c319c35c767d HEAD\\0multi_ack thin-pack side-band side-band-64k ofs-delta shallow deepen-since deepen-not deepen-relative no-progress include-tag multi_ack_detailed allow-tip-sha1-in-want allow-reachable-sha1-in-want no-done symref=HEAD:refs/heads/main filter object-format=sha1 agent=git/github-9397d7bcf330\n",
      "  23:03:55.762045 pkt-line.c:80           packet:   fetch-pack< 0d1b9c0f115835552b39fb9a72c6c319c35c767d refs/heads/main\n",
      "  23:03:55.762053 pkt-line.c:80           packet:   fetch-pack< b532144a92b62dc91b9f4a770e3cc1b23826d392 refs/heads/vpozdnyakov-getitem\n",
      "  23:03:55.762056 pkt-line.c:80           packet:   fetch-pack< b532144a92b62dc91b9f4a770e3cc1b23826d392 refs/pull/2/head\n",
      "  23:03:55.762071 pkt-line.c:80           packet:   fetch-pack< a6182dedae22147393ede2b99ead98481625d6c5 refs/tags/v0.0.1\n",
      "  23:03:55.762075 pkt-line.c:80           packet:   fetch-pack< 5fb254867ba287e91268d4274cee598d5ba2e4e7 refs/tags/v0.0.2\n",
      "  23:03:55.762078 pkt-line.c:80           packet:   fetch-pack< e72ed9009f5a51bea208da9a7e35c810db6d8efd refs/tags/v0.0.3\n",
      "  23:03:55.762081 pkt-line.c:80           packet:   fetch-pack< 0000\n",
      "  23:03:55.767114 pkt-line.c:80           packet:   fetch-pack> want 0d1b9c0f115835552b39fb9a72c6c319c35c767d multi_ack_detailed no-done side-band-64k thin-pack no-progress ofs-delta deepen-since deepen-not agent=git/2.25.1\n",
      "  23:03:55.767266 pkt-line.c:80           packet:   fetch-pack> want b532144a92b62dc91b9f4a770e3cc1b23826d392\n",
      "  23:03:55.767277 pkt-line.c:80           packet:   fetch-pack> want a6182dedae22147393ede2b99ead98481625d6c5\n",
      "  23:03:55.767282 pkt-line.c:80           packet:   fetch-pack> want 5fb254867ba287e91268d4274cee598d5ba2e4e7\n",
      "  23:03:55.767286 pkt-line.c:80           packet:   fetch-pack> want e72ed9009f5a51bea208da9a7e35c810db6d8efd\n",
      "  23:03:55.767413 pkt-line.c:80           packet:   fetch-pack> 0000\n",
      "  23:03:55.767426 pkt-line.c:80           packet:   fetch-pack> done\n",
      "  23:03:55.767490 pkt-line.c:80           packet:   fetch-pack> 0000\n",
      "  23:03:55.767531 pkt-line.c:80           packet:          git< 00a4want 0d1b9c0f115835552b39fb9a72c6c319c35c767d multi_ack_detailed no-done side-band-64k thin-pack no-progress ofs-delta deepen-since deepen-not agent=git/2.25.10032want b532144a92b62dc91b9f4a770e3cc1b23826d3920032want a6182dedae22147393ede2b99ead98481625d6c50032want 5fb254867ba287e91268d4274cee598d5ba2e4e70032want e72ed9009f5a51bea208da9a7e35c810db6d8efd00000009done\n",
      "  23:03:55.767562 pkt-line.c:80           packet:          git< 0000\n",
      "  * Couldn't find host github.com in the .netrc file; using defaults\n",
      "  * Found bundle for host github.com: 0x55c3f7b64e50 [can multiplex]\n",
      "  * Re-using existing connection! (#0) with host github.com\n",
      "  * Connected to github.com (140.82.121.4) port 443 (#0)\n",
      "  * Using Stream ID: 3 (easy handle 0x55c3f7b7b1c0)\n",
      "  > POST /airi-industrial-ai/fddbenchmark/git-upload-pack HTTP/2\n",
      "  Host: github.com\n",
      "  user-agent: git/2.25.1\n",
      "  accept-encoding: deflate, gzip, br\n",
      "  content-type: application/x-git-upload-pack-request\n",
      "  accept: application/x-git-upload-pack-result\n",
      "  content-length: 377\n",
      "\n",
      "  * We are completely uploaded and fine\n",
      "  < HTTP/2 200\n",
      "  < server: GitHub-Babel/3.0\n",
      "  < content-type: application/x-git-upload-pack-result\n",
      "  < content-security-policy: default-src 'none'; sandbox\n",
      "  < expires: Fri, 01 Jan 1980 00:00:00 GMT\n",
      "  < pragma: no-cache\n",
      "  < cache-control: no-cache, max-age=0, must-revalidate\n",
      "  < vary: Accept-Encoding\n",
      "  < date: Tue, 30 Jul 2024 20:21:24 GMT\n",
      "  < x-frame-options: DENY\n",
      "  < x-github-request-id: DB4A:39B3DF:186C2C:18EA4D:66A94B45\n",
      "  <\n",
      "  23:03:56.280892 pkt-line.c:80           packet:   fetch-pack< NAK\n",
      "  23:03:56.280914 pkt-line.c:80           packet:   fetch-pack> 0000\n",
      "  23:03:56.430970 pkt-line.c:80           packet:     sideband< PACK ...\n",
      "  23:03:56.431400 run-command.c:663       trace: run_command: git index-pack --stdin --fix-thin '--keep=fetch-pack 20725 on LAPTOP-8PAK4VHU' --check-self-contained-and-connected --pack_header=2,258\n",
      "  23:03:56.434889 git.c:439               trace: built-in: git index-pack --stdin --fix-thin '--keep=fetch-pack 20725 on LAPTOP-8PAK4VHU' --check-self-contained-and-connected --pack_header=2,258\n",
      "  * Connection #0 to host github.com left intact\n",
      "  23:04:02.461953 pkt-line.c:80           packet:          git< 0000\n",
      "  23:04:02.462315 pkt-line.c:80           packet:     sideband< 0000\n",
      "  23:04:02.518658 run-command.c:663       trace: run_command: git rev-list --objects --stdin --not --all --quiet --alternate-refs\n",
      "  23:04:02.521620 git.c:439               trace: built-in: git rev-list --objects --stdin --not --all --quiet --alternate-refs\n",
      "Requirement already satisfied (use --upgrade to upgrade): fddbenchmark==0.0.3 from git+https://github.com/airi-industrial-ai/fddbenchmark in /home/alex/.local/lib/python3.8/site-packages\n",
      "Requirement already satisfied: numpy>=1.21 in /home/alex/.local/lib/python3.8/site-packages (from fddbenchmark==0.0.3) (1.24.4)\n",
      "Requirement already satisfied: pandas>=1.3 in /home/alex/.local/lib/python3.8/site-packages (from fddbenchmark==0.0.3) (1.5.3)\n",
      "Requirement already satisfied: requests in /home/alex/.local/lib/python3.8/site-packages (from fddbenchmark==0.0.3) (2.31.0)\n",
      "Requirement already satisfied: scikit-learn>=1.0 in /home/alex/.local/lib/python3.8/site-packages (from fddbenchmark==0.0.3) (1.3.2)\n",
      "Requirement already satisfied: tqdm>=4.65 in /home/alex/.local/lib/python3.8/site-packages (from fddbenchmark==0.0.3) (4.66.2)\n",
      "Requirement already satisfied: pytz>=2020.1 in /home/alex/.local/lib/python3.8/site-packages (from pandas>=1.3->fddbenchmark==0.0.3) (2022.7.1)\n",
      "Requirement already satisfied: python-dateutil>=2.8.1 in /home/alex/.local/lib/python3.8/site-packages (from pandas>=1.3->fddbenchmark==0.0.3) (2.8.2)\n",
      "Requirement already satisfied: charset-normalizer<4,>=2 in /home/alex/.local/lib/python3.8/site-packages (from requests->fddbenchmark==0.0.3) (3.3.2)\n",
      "Requirement already satisfied: certifi>=2017.4.17 in /usr/lib/python3/dist-packages (from requests->fddbenchmark==0.0.3) (2019.11.28)\n",
      "Requirement already satisfied: urllib3<3,>=1.21.1 in /usr/lib/python3/dist-packages (from requests->fddbenchmark==0.0.3) (1.25.8)\n",
      "Requirement already satisfied: idna<4,>=2.5 in /usr/lib/python3/dist-packages (from requests->fddbenchmark==0.0.3) (2.8)\n",
      "Requirement already satisfied: scipy>=1.5.0 in /home/alex/.local/lib/python3.8/site-packages (from scikit-learn>=1.0->fddbenchmark==0.0.3) (1.10.1)\n",
      "Requirement already satisfied: joblib>=1.1.1 in /home/alex/.local/lib/python3.8/site-packages (from scikit-learn>=1.0->fddbenchmark==0.0.3) (1.4.0)\n",
      "Requirement already satisfied: threadpoolctl>=2.0.0 in /home/alex/.local/lib/python3.8/site-packages (from scikit-learn>=1.0->fddbenchmark==0.0.3) (3.4.0)\n",
      "Requirement already satisfied: six>=1.5 in /home/alex/.local/lib/python3.8/site-packages (from python-dateutil>=2.8.1->pandas>=1.3->fddbenchmark==0.0.3) (1.16.0)\n",
      "Building wheels for collected packages: fddbenchmark\n",
      "  Building wheel for fddbenchmark (setup.py) ... \u001B[?25ldone\n",
      "\u001B[?25h  Created wheel for fddbenchmark: filename=fddbenchmark-0.0.3-py3-none-any.whl size=6566 sha256=84c8cd42b1af0997272644dab78d7f7f8977348365e38d8e22634317afb5edfc\n",
      "  Stored in directory: /tmp/pip-ephem-wheel-cache-gj1drjz5/wheels/82/ce/a9/2880a079f6c6493dce831e973b7f6e6d5897be9693aad3db9a\n",
      "Successfully built fddbenchmark\n"
     ]
    }
   ],
   "source": [
    "!pip install git+https://github.com/airi-industrial-ai/fddbenchmark"
   ]
  },
  {
   "cell_type": "code",
   "execution_count": 2,
   "id": "2e600964-4ed5-45d0-932f-ff4401cb7312",
   "metadata": {
    "ExecuteTime": {
     "end_time": "2024-07-30T08:58:19.495511Z",
     "start_time": "2024-07-30T08:58:19.490541Z"
    }
   },
   "outputs": [],
   "source": [
    "import numpy as np\n",
    "import pandas as pd\n",
    "import torch\n",
    "import torch.nn as nn\n",
    "import torch.nn.functional as F\n",
    "from torch.optim import Adam\n",
    "from sklearn.preprocessing import StandardScaler\n",
    "from fddbenchmark import FDDDataset, FDDDataloader, FDDEvaluator\n",
    "import time\n",
    "from tqdm.auto import tqdm, trange\n",
    "\n",
    "from models import GNNTEP"
   ]
  },
  {
   "cell_type": "markdown",
   "id": "474f1b7e-338b-4ff9-ad2a-8125483be70d",
   "metadata": {},
   "source": [
    "Установка бенчмарка с датасетами:\n",
    "\n",
    "pip install git+https://github.com/airi-industrial-ai/fddbenchmark"
   ]
  },
  {
   "cell_type": "code",
   "execution_count": 3,
   "id": "e72e1da0-d56f-4ff4-83dc-1390042e1e1f",
   "metadata": {
    "ExecuteTime": {
     "end_time": "2024-07-30T08:58:20.459219Z",
     "start_time": "2024-07-30T08:58:19.496981Z"
    }
   },
   "outputs": [
    {
     "data": {
      "application/vnd.jupyter.widget-view+json": {
       "model_id": "1d53a5185eb9400caacea004147575a5",
       "version_major": 2,
       "version_minor": 0
      },
      "text/plain": [
       "Reading data/small_tep/dataset.csv:   0%|          | 0/153300 [00:00<?, ?it/s]"
      ]
     },
     "metadata": {},
     "output_type": "display_data"
    },
    {
     "data": {
      "application/vnd.jupyter.widget-view+json": {
       "model_id": "b6ec21eb6e3944198051e6f80dce9bf2",
       "version_major": 2,
       "version_minor": 0
      },
      "text/plain": [
       "Reading data/small_tep/labels.csv:   0%|          | 0/153300 [00:00<?, ?it/s]"
      ]
     },
     "metadata": {},
     "output_type": "display_data"
    },
    {
     "data": {
      "application/vnd.jupyter.widget-view+json": {
       "model_id": "edc5f5ae16d2403bbf4fc764b4548d3c",
       "version_major": 2,
       "version_minor": 0
      },
      "text/plain": [
       "Reading data/small_tep/train_mask.csv:   0%|          | 0/153300 [00:00<?, ?it/s]"
      ]
     },
     "metadata": {},
     "output_type": "display_data"
    },
    {
     "data": {
      "application/vnd.jupyter.widget-view+json": {
       "model_id": "7fafbbe8569f4ee981fbcb31bc51d74a",
       "version_major": 2,
       "version_minor": 0
      },
      "text/plain": [
       "Reading data/small_tep/test_mask.csv:   0%|          | 0/153300 [00:00<?, ?it/s]"
      ]
     },
     "metadata": {},
     "output_type": "display_data"
    },
    {
     "data": {
      "text/html": [
       "<div>\n",
       "<style scoped>\n",
       "    .dataframe tbody tr th:only-of-type {\n",
       "        vertical-align: middle;\n",
       "    }\n",
       "\n",
       "    .dataframe tbody tr th {\n",
       "        vertical-align: top;\n",
       "    }\n",
       "\n",
       "    .dataframe thead th {\n",
       "        text-align: right;\n",
       "    }\n",
       "</style>\n",
       "<table border=\"1\" class=\"dataframe\">\n",
       "  <thead>\n",
       "    <tr style=\"text-align: right;\">\n",
       "      <th></th>\n",
       "      <th></th>\n",
       "      <th>xmeas_1</th>\n",
       "      <th>xmeas_2</th>\n",
       "      <th>xmeas_3</th>\n",
       "      <th>xmeas_4</th>\n",
       "      <th>xmeas_5</th>\n",
       "      <th>xmeas_6</th>\n",
       "      <th>xmeas_7</th>\n",
       "      <th>xmeas_8</th>\n",
       "      <th>xmeas_9</th>\n",
       "      <th>xmeas_10</th>\n",
       "      <th>...</th>\n",
       "      <th>xmv_2</th>\n",
       "      <th>xmv_3</th>\n",
       "      <th>xmv_4</th>\n",
       "      <th>xmv_5</th>\n",
       "      <th>xmv_6</th>\n",
       "      <th>xmv_7</th>\n",
       "      <th>xmv_8</th>\n",
       "      <th>xmv_9</th>\n",
       "      <th>xmv_10</th>\n",
       "      <th>xmv_11</th>\n",
       "    </tr>\n",
       "    <tr>\n",
       "      <th>run_id</th>\n",
       "      <th>sample</th>\n",
       "      <th></th>\n",
       "      <th></th>\n",
       "      <th></th>\n",
       "      <th></th>\n",
       "      <th></th>\n",
       "      <th></th>\n",
       "      <th></th>\n",
       "      <th></th>\n",
       "      <th></th>\n",
       "      <th></th>\n",
       "      <th></th>\n",
       "      <th></th>\n",
       "      <th></th>\n",
       "      <th></th>\n",
       "      <th></th>\n",
       "      <th></th>\n",
       "      <th></th>\n",
       "      <th></th>\n",
       "      <th></th>\n",
       "      <th></th>\n",
       "      <th></th>\n",
       "    </tr>\n",
       "  </thead>\n",
       "  <tbody>\n",
       "    <tr>\n",
       "      <th rowspan=\"5\" valign=\"top\">413402073</th>\n",
       "      <th>1</th>\n",
       "      <td>0.25038</td>\n",
       "      <td>3674.0</td>\n",
       "      <td>4529.0</td>\n",
       "      <td>9.2320</td>\n",
       "      <td>26.889</td>\n",
       "      <td>42.402</td>\n",
       "      <td>2704.3</td>\n",
       "      <td>74.863</td>\n",
       "      <td>120.41</td>\n",
       "      <td>0.33818</td>\n",
       "      <td>...</td>\n",
       "      <td>53.744</td>\n",
       "      <td>24.657</td>\n",
       "      <td>62.544</td>\n",
       "      <td>22.137</td>\n",
       "      <td>39.935</td>\n",
       "      <td>42.323</td>\n",
       "      <td>47.757</td>\n",
       "      <td>47.510</td>\n",
       "      <td>41.258</td>\n",
       "      <td>18.447</td>\n",
       "    </tr>\n",
       "    <tr>\n",
       "      <th>2</th>\n",
       "      <td>0.25109</td>\n",
       "      <td>3659.4</td>\n",
       "      <td>4556.6</td>\n",
       "      <td>9.4264</td>\n",
       "      <td>26.721</td>\n",
       "      <td>42.576</td>\n",
       "      <td>2705.0</td>\n",
       "      <td>75.000</td>\n",
       "      <td>120.41</td>\n",
       "      <td>0.33620</td>\n",
       "      <td>...</td>\n",
       "      <td>53.414</td>\n",
       "      <td>24.588</td>\n",
       "      <td>59.259</td>\n",
       "      <td>22.084</td>\n",
       "      <td>40.176</td>\n",
       "      <td>38.554</td>\n",
       "      <td>43.692</td>\n",
       "      <td>47.427</td>\n",
       "      <td>41.359</td>\n",
       "      <td>17.194</td>\n",
       "    </tr>\n",
       "    <tr>\n",
       "      <th>3</th>\n",
       "      <td>0.25038</td>\n",
       "      <td>3660.3</td>\n",
       "      <td>4477.8</td>\n",
       "      <td>9.4426</td>\n",
       "      <td>26.875</td>\n",
       "      <td>42.070</td>\n",
       "      <td>2706.2</td>\n",
       "      <td>74.771</td>\n",
       "      <td>120.42</td>\n",
       "      <td>0.33563</td>\n",
       "      <td>...</td>\n",
       "      <td>54.357</td>\n",
       "      <td>24.666</td>\n",
       "      <td>61.275</td>\n",
       "      <td>22.380</td>\n",
       "      <td>40.244</td>\n",
       "      <td>38.990</td>\n",
       "      <td>46.699</td>\n",
       "      <td>47.468</td>\n",
       "      <td>41.199</td>\n",
       "      <td>20.530</td>\n",
       "    </tr>\n",
       "    <tr>\n",
       "      <th>4</th>\n",
       "      <td>0.24977</td>\n",
       "      <td>3661.3</td>\n",
       "      <td>4512.1</td>\n",
       "      <td>9.4776</td>\n",
       "      <td>26.758</td>\n",
       "      <td>42.063</td>\n",
       "      <td>2707.2</td>\n",
       "      <td>75.224</td>\n",
       "      <td>120.39</td>\n",
       "      <td>0.33553</td>\n",
       "      <td>...</td>\n",
       "      <td>53.946</td>\n",
       "      <td>24.725</td>\n",
       "      <td>59.856</td>\n",
       "      <td>22.277</td>\n",
       "      <td>40.257</td>\n",
       "      <td>38.072</td>\n",
       "      <td>47.541</td>\n",
       "      <td>47.658</td>\n",
       "      <td>41.643</td>\n",
       "      <td>18.089</td>\n",
       "    </tr>\n",
       "    <tr>\n",
       "      <th>5</th>\n",
       "      <td>0.29405</td>\n",
       "      <td>3679.0</td>\n",
       "      <td>4497.0</td>\n",
       "      <td>9.3381</td>\n",
       "      <td>26.889</td>\n",
       "      <td>42.650</td>\n",
       "      <td>2705.1</td>\n",
       "      <td>75.388</td>\n",
       "      <td>120.39</td>\n",
       "      <td>0.32632</td>\n",
       "      <td>...</td>\n",
       "      <td>53.658</td>\n",
       "      <td>28.797</td>\n",
       "      <td>60.717</td>\n",
       "      <td>21.947</td>\n",
       "      <td>39.144</td>\n",
       "      <td>41.955</td>\n",
       "      <td>47.645</td>\n",
       "      <td>47.346</td>\n",
       "      <td>41.507</td>\n",
       "      <td>18.461</td>\n",
       "    </tr>\n",
       "  </tbody>\n",
       "</table>\n",
       "<p>5 rows × 52 columns</p>\n",
       "</div>"
      ],
      "text/plain": [
       "                  xmeas_1  xmeas_2  xmeas_3  xmeas_4  xmeas_5  xmeas_6  \\\n",
       "run_id    sample                                                         \n",
       "413402073 1       0.25038   3674.0   4529.0   9.2320   26.889   42.402   \n",
       "          2       0.25109   3659.4   4556.6   9.4264   26.721   42.576   \n",
       "          3       0.25038   3660.3   4477.8   9.4426   26.875   42.070   \n",
       "          4       0.24977   3661.3   4512.1   9.4776   26.758   42.063   \n",
       "          5       0.29405   3679.0   4497.0   9.3381   26.889   42.650   \n",
       "\n",
       "                  xmeas_7  xmeas_8  xmeas_9  xmeas_10  ...   xmv_2   xmv_3  \\\n",
       "run_id    sample                                       ...                   \n",
       "413402073 1        2704.3   74.863   120.41   0.33818  ...  53.744  24.657   \n",
       "          2        2705.0   75.000   120.41   0.33620  ...  53.414  24.588   \n",
       "          3        2706.2   74.771   120.42   0.33563  ...  54.357  24.666   \n",
       "          4        2707.2   75.224   120.39   0.33553  ...  53.946  24.725   \n",
       "          5        2705.1   75.388   120.39   0.32632  ...  53.658  28.797   \n",
       "\n",
       "                   xmv_4   xmv_5   xmv_6   xmv_7   xmv_8   xmv_9  xmv_10  \\\n",
       "run_id    sample                                                           \n",
       "413402073 1       62.544  22.137  39.935  42.323  47.757  47.510  41.258   \n",
       "          2       59.259  22.084  40.176  38.554  43.692  47.427  41.359   \n",
       "          3       61.275  22.380  40.244  38.990  46.699  47.468  41.199   \n",
       "          4       59.856  22.277  40.257  38.072  47.541  47.658  41.643   \n",
       "          5       60.717  21.947  39.144  41.955  47.645  47.346  41.507   \n",
       "\n",
       "                  xmv_11  \n",
       "run_id    sample          \n",
       "413402073 1       18.447  \n",
       "          2       17.194  \n",
       "          3       20.530  \n",
       "          4       18.089  \n",
       "          5       18.461  \n",
       "\n",
       "[5 rows x 52 columns]"
      ]
     },
     "execution_count": 3,
     "metadata": {},
     "output_type": "execute_result"
    }
   ],
   "source": [
    "# загрузка датасета:\n",
    "# small_tep - 18.9 МБ zip архив, 21 класс (20 неисправностей)\n",
    "# rieth_tep - 1.84 ГБ zip архив, 21 класс (20 неисправностей)\n",
    "# reinartz_tep - 1.88 ГБ zip фрхив, 29 классов (28 несиправностей)\n",
    "dataset = FDDDataset(name='reinartz_tep')\n",
    "dataset.df.head()"
   ]
  },
  {
   "cell_type": "code",
   "execution_count": 4,
   "id": "fb65fefe-1d7d-4007-9905-dc2eca9429ea",
   "metadata": {
    "ExecuteTime": {
     "end_time": "2024-07-30T08:58:20.538916Z",
     "start_time": "2024-07-30T08:58:20.461481Z"
    }
   },
   "outputs": [],
   "source": [
    "# стандартизация данных:\n",
    "scaler = StandardScaler()\n",
    "scaler.fit(dataset.df[dataset.train_mask])\n",
    "dataset.df[:] = scaler.transform(dataset.df)"
   ]
  },
  {
   "cell_type": "code",
   "execution_count": 5,
   "id": "e9beb506-192e-412d-8d3e-61a9e0f8f90b",
   "metadata": {
    "ExecuteTime": {
     "end_time": "2024-07-30T09:08:39.055775Z",
     "start_time": "2024-07-30T09:08:38.750753Z"
    }
   },
   "outputs": [
    {
     "name": "stderr",
     "output_type": "stream",
     "text": [
      "Creating sequence of samples: 100%|██████████| 105/105 [00:00<00:00, 1473.38it/s]\n",
      "Creating sequence of samples: 100%|██████████| 105/105 [00:00<00:00, 993.05it/s] \n"
     ]
    }
   ],
   "source": [
    "# даталоадер для обучения:\n",
    "train_dl = FDDDataloader(\n",
    "    dataframe=dataset.df,\n",
    "    mask=dataset.train_mask,\n",
    "    label=dataset.label,\n",
    "    window_size=10,\n",
    "    step_size=1,\n",
    "    use_minibatches=True,\n",
    "    batch_size=512,\n",
    "    shuffle=True\n",
    ")\n",
    "\n",
    "# даталоадер для теста:\n",
    "test_dl = FDDDataloader(\n",
    "    dataframe=dataset.df,\n",
    "    mask=dataset.test_mask,\n",
    "    label=dataset.label,\n",
    "    window_size=10,\n",
    "    step_size=1,\n",
    "    use_minibatches=True,\n",
    "    batch_size=512\n",
    ")\n",
    "\n",
    "# для измерения метрик:\n",
    "evaluator = FDDEvaluator(step_size=1)"
   ]
  },
  {
   "cell_type": "markdown",
   "id": "8ef550af-dfef-4d5e-9441-193163c62f12",
   "metadata": {},
   "source": [
    "Параметры модели:"
   ]
  },
  {
   "cell_type": "code",
   "execution_count": 6,
   "id": "975b49bc-21f6-4062-bd63-8f55ebded61b",
   "metadata": {
    "ExecuteTime": {
     "end_time": "2024-07-30T09:09:45.425689Z",
     "start_time": "2024-07-30T09:09:45.422413Z"
    }
   },
   "outputs": [],
   "source": [
    "num_nodes = 52  # number of nodes\n",
    "window_size = 10  # window size\n",
    "ngnn = 1  # number of graph structure learning layers\n",
    "gsllayer = 'constant'  # type of graph structure learning layer ('relu', 'directed', 'unidirected', 'undirected', 'constant')\n",
    "nhidden = 256  # feature size in GCN layers\n",
    "alpha = 0.1  # hyperparameter for weights of edges\n",
    "k = None  # max number of edges for each node\n",
    "out_channels = 29  # number of process states"
   ]
  },
  {
   "cell_type": "markdown",
   "id": "17183dc6-944c-41bf-92fd-44b179ab7c69",
   "metadata": {},
   "source": [
    "Создание модели:"
   ]
  },
  {
   "cell_type": "code",
   "execution_count": 9,
   "id": "f28cda764e635ca1",
   "metadata": {
    "ExecuteTime": {
     "end_time": "2024-07-30T09:09:45.450361Z",
     "start_time": "2024-07-30T09:09:45.443998Z"
    }
   },
   "outputs": [],
   "source": [
    "def get_expert_matrix():\n",
    "    matrix = dict()\n",
    "    matrix[1] = [43]\n",
    "    matrix[2] = [42]\n",
    "    matrix[3] = [44]\n",
    "    matrix[4] = [45]\n",
    "    matrix[5] = [7, 20, 46]\n",
    "    matrix[6] = [7, 8, 9]\n",
    "    matrix[7] = [6, 45]\n",
    "    matrix[8] = [6]\n",
    "    matrix[9] = [9, 21, 46, 51]\n",
    "    matrix[10] = [47]\n",
    "    matrix[11] = [22, 48]\n",
    "    matrix[12] = [22, 48]\n",
    "    matrix[13] = [13, 22, 48]\n",
    "    matrix[14] = [48]\n",
    "    matrix[15] = [17, 48, 49, 50]\n",
    "    matrix[16] = [17, 45, 50]\n",
    "    matrix[18] = [17, 49, 50]\n",
    "    matrix[17] = [15, 16, 18, 45, 49, 50, 52]\n",
    "    matrix[19] = []\n",
    "    matrix[20] = [5, 13]\n",
    "    matrix[21] = [9, 51]\n",
    "    matrix[22] = [11, 13, 48]\n",
    "    matrix[23] = [42, 43, 44]\n",
    "    matrix[24] = [42, 43, 44]\n",
    "    matrix[25] = [42, 43, 44, 46]\n",
    "    matrix[26] = [42, 43, 44, 46]\n",
    "    matrix[27] = [42, 43, 44, 46]\n",
    "    matrix[28] = [42, 43, 44]\n",
    "    matrix[29] = [47]\n",
    "    matrix[30] = [47]\n",
    "    matrix[31] = [47]\n",
    "    matrix[32] = [47]\n",
    "    matrix[33] = [46, 47]\n",
    "    matrix[34] = [46, 47]\n",
    "    matrix[35] = [46, 47]\n",
    "    matrix[36] = [47]\n",
    "    matrix[37] = [49]\n",
    "    matrix[38] = [49]\n",
    "    matrix[39] = [49]\n",
    "    matrix[40] = [49]\n",
    "    matrix[41] = [49]\n",
    "\n",
    "    matrix[42] = [2, 5, 6, 23, 24, 25, 26, 27, 28]\n",
    "    matrix[43] = [1, 5, 6, 23, 24, 25, 26, 27, 28]\n",
    "    matrix[44] = [3, 5, 6, 23, 24, 25, 26, 27, 28]\n",
    "    matrix[45] = [4, 7, 15, 16, 17]\n",
    "    matrix[46] = [5, 9, 25, 26, 27, 33, 34, 35]\n",
    "    matrix[47] = [10, 29, 30, 31, 32, 33, 34, 35, 36]\n",
    "    matrix[48] = [11, 12, 13, 14, 15, 22]\n",
    "    matrix[49] = [15, 17, 18, 37, 38, 39, 40, 41]\n",
    "    matrix[50] = [15, 16, 17, 18, 52]\n",
    "    matrix[51] = [9, 21]\n",
    "    matrix[52] = [17, 50]\n",
    "    return matrix\n",
    "\n",
    "def get_np_mtr_from_dict(d: dict):\n",
    "    num_nodes = len(d)\n",
    "    adj_matrix = np.eye(num_nodes)\n",
    "\n",
    "    for node, neighbors in d.items():\n",
    "        for neighbor in neighbors:\n",
    "            adj_matrix[node - 1, neighbor - 1] = 1  # -1,\n",
    "\n",
    "    return adj_matrix"
   ]
  },
  {
   "cell_type": "code",
   "execution_count": 10,
   "id": "d7d01aa53640d070",
   "metadata": {
    "ExecuteTime": {
     "end_time": "2024-07-30T09:09:45.454935Z",
     "start_time": "2024-07-30T09:09:45.451962Z"
    }
   },
   "outputs": [],
   "source": [
    "adj_matrix = get_np_mtr_from_dict(get_expert_matrix())"
   ]
  },
  {
   "cell_type": "code",
   "execution_count": 11,
   "id": "575ee9a2-2653-4612-8478-89c9ddad6c02",
   "metadata": {
    "ExecuteTime": {
     "end_time": "2024-07-30T09:09:45.460780Z",
     "start_time": "2024-07-30T09:09:45.456241Z"
    }
   },
   "outputs": [],
   "source": [
    "device = torch.device('cuda' if torch.cuda.is_available() else 'cpu')\n",
    "\n",
    "model = GNNTEP(num_nodes, window_size, ngnn, gsllayer, nhidden,\n",
    "               alpha, k, out_channels, device, adj_matrix)"
   ]
  },
  {
   "cell_type": "markdown",
   "id": "398659e3-8385-427e-99fa-4328ec9edf23",
   "metadata": {},
   "source": [
    "Обучение:"
   ]
  },
  {
   "cell_type": "code",
   "execution_count": 12,
   "id": "61868824-3130-4c01-b5f4-a0a4c09c783d",
   "metadata": {
    "ExecuteTime": {
     "end_time": "2024-07-30T09:11:53.803347Z",
     "start_time": "2024-07-30T09:09:45.461616Z"
    }
   },
   "outputs": [
    {
     "data": {
      "application/vnd.jupyter.widget-view+json": {
       "model_id": "6b529a8e0e2048d9a8328aabd49035ff",
       "version_major": 2,
       "version_minor": 0
      },
      "text/plain": [
       "Steps ...:   0%|          | 0/101 [00:00<?, ?it/s]"
      ]
     },
     "metadata": {},
     "output_type": "display_data"
    },
    {
     "name": "stdout",
     "output_type": "stream",
     "text": [
      "Epoch:  1/10, average CE loss: 1.6436\n"
     ]
    },
    {
     "data": {
      "application/vnd.jupyter.widget-view+json": {
       "model_id": "bbaa04ddd46548fab1dbd3e0e7790f14",
       "version_major": 2,
       "version_minor": 0
      },
      "text/plain": [
       "Steps ...:   0%|          | 0/101 [00:00<?, ?it/s]"
      ]
     },
     "metadata": {},
     "output_type": "display_data"
    },
    {
     "name": "stdout",
     "output_type": "stream",
     "text": [
      "Epoch:  2/10, average CE loss: 1.2916\n"
     ]
    },
    {
     "data": {
      "application/vnd.jupyter.widget-view+json": {
       "model_id": "074f1aa3213549f18072bfb18ef1cab1",
       "version_major": 2,
       "version_minor": 0
      },
      "text/plain": [
       "Steps ...:   0%|          | 0/101 [00:00<?, ?it/s]"
      ]
     },
     "metadata": {},
     "output_type": "display_data"
    },
    {
     "ename": "KeyboardInterrupt",
     "evalue": "",
     "output_type": "error",
     "traceback": [
      "\u001B[0;31m---------------------------------------------------------------------------\u001B[0m",
      "\u001B[0;31mKeyboardInterrupt\u001B[0m                         Traceback (most recent call last)",
      "Cell \u001B[0;32mIn[12], line 18\u001B[0m\n\u001B[1;32m     16\u001B[0m loss \u001B[38;5;241m=\u001B[39m F\u001B[38;5;241m.\u001B[39mcross_entropy(logits, label, weight\u001B[38;5;241m=\u001B[39mweight\u001B[38;5;241m.\u001B[39mto(device))\n\u001B[1;32m     17\u001B[0m opt\u001B[38;5;241m.\u001B[39mzero_grad()\n\u001B[0;32m---> 18\u001B[0m \u001B[43mloss\u001B[49m\u001B[38;5;241;43m.\u001B[39;49m\u001B[43mbackward\u001B[49m\u001B[43m(\u001B[49m\u001B[43m)\u001B[49m\n\u001B[1;32m     19\u001B[0m opt\u001B[38;5;241m.\u001B[39mstep()\n\u001B[1;32m     20\u001B[0m av_loss\u001B[38;5;241m.\u001B[39mappend(loss\u001B[38;5;241m.\u001B[39mitem())\n",
      "File \u001B[0;32m~/.local/lib/python3.8/site-packages/torch/_tensor.py:487\u001B[0m, in \u001B[0;36mTensor.backward\u001B[0;34m(self, gradient, retain_graph, create_graph, inputs)\u001B[0m\n\u001B[1;32m    477\u001B[0m \u001B[38;5;28;01mif\u001B[39;00m has_torch_function_unary(\u001B[38;5;28mself\u001B[39m):\n\u001B[1;32m    478\u001B[0m     \u001B[38;5;28;01mreturn\u001B[39;00m handle_torch_function(\n\u001B[1;32m    479\u001B[0m         Tensor\u001B[38;5;241m.\u001B[39mbackward,\n\u001B[1;32m    480\u001B[0m         (\u001B[38;5;28mself\u001B[39m,),\n\u001B[0;32m   (...)\u001B[0m\n\u001B[1;32m    485\u001B[0m         inputs\u001B[38;5;241m=\u001B[39minputs,\n\u001B[1;32m    486\u001B[0m     )\n\u001B[0;32m--> 487\u001B[0m \u001B[43mtorch\u001B[49m\u001B[38;5;241;43m.\u001B[39;49m\u001B[43mautograd\u001B[49m\u001B[38;5;241;43m.\u001B[39;49m\u001B[43mbackward\u001B[49m\u001B[43m(\u001B[49m\n\u001B[1;32m    488\u001B[0m \u001B[43m    \u001B[49m\u001B[38;5;28;43mself\u001B[39;49m\u001B[43m,\u001B[49m\u001B[43m \u001B[49m\u001B[43mgradient\u001B[49m\u001B[43m,\u001B[49m\u001B[43m \u001B[49m\u001B[43mretain_graph\u001B[49m\u001B[43m,\u001B[49m\u001B[43m \u001B[49m\u001B[43mcreate_graph\u001B[49m\u001B[43m,\u001B[49m\u001B[43m \u001B[49m\u001B[43minputs\u001B[49m\u001B[38;5;241;43m=\u001B[39;49m\u001B[43minputs\u001B[49m\n\u001B[1;32m    489\u001B[0m \u001B[43m\u001B[49m\u001B[43m)\u001B[49m\n",
      "File \u001B[0;32m~/.local/lib/python3.8/site-packages/torch/autograd/__init__.py:200\u001B[0m, in \u001B[0;36mbackward\u001B[0;34m(tensors, grad_tensors, retain_graph, create_graph, grad_variables, inputs)\u001B[0m\n\u001B[1;32m    195\u001B[0m     retain_graph \u001B[38;5;241m=\u001B[39m create_graph\n\u001B[1;32m    197\u001B[0m \u001B[38;5;66;03m# The reason we repeat same the comment below is that\u001B[39;00m\n\u001B[1;32m    198\u001B[0m \u001B[38;5;66;03m# some Python versions print out the first line of a multi-line function\u001B[39;00m\n\u001B[1;32m    199\u001B[0m \u001B[38;5;66;03m# calls in the traceback and some print out the last line\u001B[39;00m\n\u001B[0;32m--> 200\u001B[0m \u001B[43mVariable\u001B[49m\u001B[38;5;241;43m.\u001B[39;49m\u001B[43m_execution_engine\u001B[49m\u001B[38;5;241;43m.\u001B[39;49m\u001B[43mrun_backward\u001B[49m\u001B[43m(\u001B[49m\u001B[43m  \u001B[49m\u001B[38;5;66;43;03m# Calls into the C++ engine to run the backward pass\u001B[39;49;00m\n\u001B[1;32m    201\u001B[0m \u001B[43m    \u001B[49m\u001B[43mtensors\u001B[49m\u001B[43m,\u001B[49m\u001B[43m \u001B[49m\u001B[43mgrad_tensors_\u001B[49m\u001B[43m,\u001B[49m\u001B[43m \u001B[49m\u001B[43mretain_graph\u001B[49m\u001B[43m,\u001B[49m\u001B[43m \u001B[49m\u001B[43mcreate_graph\u001B[49m\u001B[43m,\u001B[49m\u001B[43m \u001B[49m\u001B[43minputs\u001B[49m\u001B[43m,\u001B[49m\n\u001B[1;32m    202\u001B[0m \u001B[43m    \u001B[49m\u001B[43mallow_unreachable\u001B[49m\u001B[38;5;241;43m=\u001B[39;49m\u001B[38;5;28;43;01mTrue\u001B[39;49;00m\u001B[43m,\u001B[49m\u001B[43m \u001B[49m\u001B[43maccumulate_grad\u001B[49m\u001B[38;5;241;43m=\u001B[39;49m\u001B[38;5;28;43;01mTrue\u001B[39;49;00m\u001B[43m)\u001B[49m\n",
      "\u001B[0;31mKeyboardInterrupt\u001B[0m: "
     ]
    }
   ],
   "source": [
    "model.to(device)\n",
    "opt = Adam(model.parameters(), lr=0.001)\n",
    "n_epochs = 10\n",
    "\n",
    "weight = torch.ones(29) * 0.5\n",
    "weight[1:] /= 28\n",
    "\n",
    "model.train()\n",
    "for e in range(n_epochs):\n",
    "    av_loss = []\n",
    "    for ts, _, label in tqdm(train_dl, desc='Steps ...', leave=False):\n",
    "        label = torch.LongTensor(label).to(device)\n",
    "        ts = torch.FloatTensor(ts).to(device)\n",
    "        ts = torch.transpose(ts, 1, 2)\n",
    "        logits = model(ts)\n",
    "        loss = F.cross_entropy(logits, label, weight=weight.to(device))\n",
    "        opt.zero_grad()\n",
    "        loss.backward()\n",
    "        opt.step()\n",
    "        av_loss.append(loss.item())\n",
    "    print(f'Epoch: {e + 1:2d}/{n_epochs}, average CE loss: {sum(av_loss) / len(av_loss):.4f}')"
   ]
  },
  {
   "cell_type": "markdown",
   "id": "a5c5b061-9a28-4d0e-ad01-3fca468521e7",
   "metadata": {},
   "source": [
    "Метрики:"
   ]
  },
  {
   "cell_type": "code",
   "execution_count": null,
   "id": "59074e1a-45fe-4654-a388-8adb6ef386c1",
   "metadata": {
    "ExecuteTime": {
     "end_time": "2024-07-30T09:12:02.532450Z",
     "start_time": "2024-07-30T09:11:53.831613Z"
    }
   },
   "outputs": [
    {
     "name": "stdout",
     "output_type": "stream",
     "text": [
      "Accuracy: 0.6782\n"
     ]
    }
   ],
   "source": [
    "preds = []\n",
    "labels = []\n",
    "model.eval()\n",
    "for sample, index, label in test_dl:\n",
    "    sample = torch.FloatTensor(sample).to(device)\n",
    "    sample = torch.transpose(sample, 1, 2)\n",
    "    with torch.no_grad():\n",
    "        logits = model(sample)\n",
    "    pred = logits.argmax(axis=1).cpu().numpy()\n",
    "    preds.append(pd.Series(pred, index=index, name='pred'))\n",
    "    labels.append(pd.Series(label, index=index, name='pred'))\n",
    "preds = pd.concat(preds)\n",
    "labels = pd.concat(labels)\n",
    "\n",
    "metrics = evaluator.evaluate(labels, preds)\n",
    "acc = metrics['confusion_matrix'].diagonal().sum() / metrics['confusion_matrix'].sum()\n",
    "print(f'Accuracy: {acc:.4f}')"
   ]
  },
  {
   "cell_type": "code",
   "execution_count": null,
   "id": "8edf2b1f-37ae-4724-8e67-36bd91950391",
   "metadata": {
    "ExecuteTime": {
     "end_time": "2024-07-30T09:12:02.536941Z",
     "start_time": "2024-07-30T09:12:02.533466Z"
    }
   },
   "outputs": [
    {
     "data": {
      "text/plain": [
       "{'TPR': 0.7099625, 'FPR': 0.011785444472425083, 'ADD': 40.27835051546392}"
      ]
     },
     "execution_count": 57,
     "metadata": {},
     "output_type": "execute_result"
    }
   ],
   "source": [
    "metrics['detection']"
   ]
  },
  {
   "cell_type": "code",
   "execution_count": null,
   "id": "97fdf2a8-d02e-4f12-a895-0defa389741e",
   "metadata": {
    "ExecuteTime": {
     "end_time": "2024-07-30T09:12:02.539728Z",
     "start_time": "2024-07-30T09:12:02.538141Z"
    }
   },
   "outputs": [],
   "source": []
  }
 ],
 "metadata": {
  "kernelspec": {
   "display_name": "Python 3 (ipykernel)",
   "language": "python",
   "name": "python3"
  },
  "language_info": {
   "codemirror_mode": {
    "name": "ipython",
    "version": 3
   },
   "file_extension": ".py",
   "mimetype": "text/x-python",
   "name": "python",
   "nbconvert_exporter": "python",
   "pygments_lexer": "ipython3",
   "version": "3.8.10"
  }
 },
 "nbformat": 4,
 "nbformat_minor": 5
}
