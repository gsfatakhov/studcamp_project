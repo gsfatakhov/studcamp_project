{
 "cells": [
  {
   "metadata": {
    "ExecuteTime": {
     "end_time": "2024-07-29T19:33:08.260717Z",
     "start_time": "2024-07-29T19:33:04.012588Z"
    }
   },
   "cell_type": "code",
   "source": "!pip install git+https://github.com/airi-industrial-ai/fddbenchmark",
   "id": "9c7b0f71e619d86e",
   "outputs": [
    {
     "name": "stdout",
     "output_type": "stream",
     "text": [
      "Collecting git+https://github.com/airi-industrial-ai/fddbenchmark\r\n",
      "  Cloning https://github.com/airi-industrial-ai/fddbenchmark to /private/var/folders/h7/3w3f6nt518qfc1cgwzz6x3z00000gn/T/pip-req-build-bjbbkz8l\r\n",
      "  Running command git clone --filter=blob:none --quiet https://github.com/airi-industrial-ai/fddbenchmark /private/var/folders/h7/3w3f6nt518qfc1cgwzz6x3z00000gn/T/pip-req-build-bjbbkz8l\r\n",
      "  Resolved https://github.com/airi-industrial-ai/fddbenchmark to commit 0d1b9c0f115835552b39fb9a72c6c319c35c767d\r\n",
      "  Preparing metadata (setup.py) ... \u001B[?25ldone\r\n",
      "\u001B[?25hRequirement already satisfied: numpy>=1.21 in /Users/georgijfatahov/VSCodeProjects/mop/.conda/lib/python3.11/site-packages (from fddbenchmark==0.0.3) (1.26.4)\r\n",
      "Requirement already satisfied: pandas>=1.3 in /Users/georgijfatahov/VSCodeProjects/mop/.conda/lib/python3.11/site-packages (from fddbenchmark==0.0.3) (2.2.2)\r\n",
      "Requirement already satisfied: scikit-learn>=1.0 in /Users/georgijfatahov/VSCodeProjects/mop/.conda/lib/python3.11/site-packages (from fddbenchmark==0.0.3) (1.5.1)\r\n",
      "Requirement already satisfied: tqdm>=4.65 in /Users/georgijfatahov/VSCodeProjects/mop/.conda/lib/python3.11/site-packages (from fddbenchmark==0.0.3) (4.66.4)\r\n",
      "Requirement already satisfied: requests in /Users/georgijfatahov/VSCodeProjects/mop/.conda/lib/python3.11/site-packages (from fddbenchmark==0.0.3) (2.32.3)\r\n",
      "Requirement already satisfied: python-dateutil>=2.8.2 in /Users/georgijfatahov/VSCodeProjects/mop/.conda/lib/python3.11/site-packages (from pandas>=1.3->fddbenchmark==0.0.3) (2.9.0.post0)\r\n",
      "Requirement already satisfied: pytz>=2020.1 in /Users/georgijfatahov/VSCodeProjects/mop/.conda/lib/python3.11/site-packages (from pandas>=1.3->fddbenchmark==0.0.3) (2024.1)\r\n",
      "Requirement already satisfied: tzdata>=2022.7 in /Users/georgijfatahov/VSCodeProjects/mop/.conda/lib/python3.11/site-packages (from pandas>=1.3->fddbenchmark==0.0.3) (2024.1)\r\n",
      "Requirement already satisfied: scipy>=1.6.0 in /Users/georgijfatahov/VSCodeProjects/mop/.conda/lib/python3.11/site-packages (from scikit-learn>=1.0->fddbenchmark==0.0.3) (1.13.1)\r\n",
      "Requirement already satisfied: joblib>=1.2.0 in /Users/georgijfatahov/VSCodeProjects/mop/.conda/lib/python3.11/site-packages (from scikit-learn>=1.0->fddbenchmark==0.0.3) (1.4.2)\r\n",
      "Requirement already satisfied: threadpoolctl>=3.1.0 in /Users/georgijfatahov/VSCodeProjects/mop/.conda/lib/python3.11/site-packages (from scikit-learn>=1.0->fddbenchmark==0.0.3) (3.5.0)\r\n",
      "Requirement already satisfied: charset-normalizer<4,>=2 in /Users/georgijfatahov/VSCodeProjects/mop/.conda/lib/python3.11/site-packages (from requests->fddbenchmark==0.0.3) (3.3.2)\r\n",
      "Requirement already satisfied: idna<4,>=2.5 in /Users/georgijfatahov/VSCodeProjects/mop/.conda/lib/python3.11/site-packages (from requests->fddbenchmark==0.0.3) (3.7)\r\n",
      "Requirement already satisfied: urllib3<3,>=1.21.1 in /Users/georgijfatahov/VSCodeProjects/mop/.conda/lib/python3.11/site-packages (from requests->fddbenchmark==0.0.3) (2.2.2)\r\n",
      "Requirement already satisfied: certifi>=2017.4.17 in /Users/georgijfatahov/VSCodeProjects/mop/.conda/lib/python3.11/site-packages (from requests->fddbenchmark==0.0.3) (2024.6.2)\r\n",
      "Requirement already satisfied: six>=1.5 in /Users/georgijfatahov/VSCodeProjects/mop/.conda/lib/python3.11/site-packages (from python-dateutil>=2.8.2->pandas>=1.3->fddbenchmark==0.0.3) (1.16.0)\r\n"
     ]
    }
   ],
   "execution_count": 1
  },
  {
   "cell_type": "code",
   "id": "2e600964-4ed5-45d0-932f-ff4401cb7312",
   "metadata": {
    "ExecuteTime": {
     "end_time": "2024-07-29T19:33:11.288111Z",
     "start_time": "2024-07-29T19:33:08.262740Z"
    }
   },
   "source": [
    "import numpy as np\n",
    "import pandas as pd\n",
    "import torch\n",
    "import torch.nn as nn\n",
    "import torch.nn.functional as F\n",
    "from torch.optim import Adam\n",
    "from sklearn.preprocessing import StandardScaler\n",
    "from fddbenchmark import FDDDataset, FDDDataloader, FDDEvaluator\n",
    "import time\n",
    "from tqdm.auto import tqdm, trange\n",
    "\n",
    "from models import GNNTEP"
   ],
   "outputs": [],
   "execution_count": 2
  },
  {
   "cell_type": "markdown",
   "id": "474f1b7e-338b-4ff9-ad2a-8125483be70d",
   "metadata": {},
   "source": [
    "Установка бенчмарка с датасетами:\n",
    "\n",
    "pip install git+https://github.com/airi-industrial-ai/fddbenchmark"
   ]
  },
  {
   "cell_type": "code",
   "id": "e72e1da0-d56f-4ff4-83dc-1390042e1e1f",
   "metadata": {
    "ExecuteTime": {
     "end_time": "2024-07-29T19:33:12.201798Z",
     "start_time": "2024-07-29T19:33:11.288941Z"
    }
   },
   "source": [
    "# загрузка датасета:\n",
    "# small_tep - 18.9 МБ zip архив, 21 класс (20 неисправностей)\n",
    "# rieth_tep - 1.84 ГБ zip архив, 21 класс (20 неисправностей)\n",
    "# reinartz_tep - 1.88 ГБ zip фрхив, 29 классов (28 несиправностей)\n",
    "dataset = FDDDataset(name='small_tep')\n",
    "dataset.df.head()"
   ],
   "outputs": [
    {
     "data": {
      "text/plain": [
       "Reading data/small_tep/dataset.csv:   0%|          | 0/153300 [00:00<?, ?it/s]"
      ],
      "application/vnd.jupyter.widget-view+json": {
       "version_major": 2,
       "version_minor": 0,
       "model_id": "599d12a7da1f4dce8d6bf2c3311c9f58"
      }
     },
     "metadata": {},
     "output_type": "display_data"
    },
    {
     "data": {
      "text/plain": [
       "Reading data/small_tep/labels.csv:   0%|          | 0/153300 [00:00<?, ?it/s]"
      ],
      "application/vnd.jupyter.widget-view+json": {
       "version_major": 2,
       "version_minor": 0,
       "model_id": "b56b8d3b6901436a8c48b555a6c7cd5f"
      }
     },
     "metadata": {},
     "output_type": "display_data"
    },
    {
     "data": {
      "text/plain": [
       "Reading data/small_tep/train_mask.csv:   0%|          | 0/153300 [00:00<?, ?it/s]"
      ],
      "application/vnd.jupyter.widget-view+json": {
       "version_major": 2,
       "version_minor": 0,
       "model_id": "45789667de8644909a73a355f8684137"
      }
     },
     "metadata": {},
     "output_type": "display_data"
    },
    {
     "data": {
      "text/plain": [
       "Reading data/small_tep/test_mask.csv:   0%|          | 0/153300 [00:00<?, ?it/s]"
      ],
      "application/vnd.jupyter.widget-view+json": {
       "version_major": 2,
       "version_minor": 0,
       "model_id": "c4b3689dfa3f4b30a8522c16c0d0e839"
      }
     },
     "metadata": {},
     "output_type": "display_data"
    },
    {
     "data": {
      "text/plain": [
       "                  xmeas_1  xmeas_2  xmeas_3  xmeas_4  xmeas_5  xmeas_6  \\\n",
       "run_id    sample                                                         \n",
       "413402073 1       0.25038   3674.0   4529.0   9.2320   26.889   42.402   \n",
       "          2       0.25109   3659.4   4556.6   9.4264   26.721   42.576   \n",
       "          3       0.25038   3660.3   4477.8   9.4426   26.875   42.070   \n",
       "          4       0.24977   3661.3   4512.1   9.4776   26.758   42.063   \n",
       "          5       0.29405   3679.0   4497.0   9.3381   26.889   42.650   \n",
       "\n",
       "                  xmeas_7  xmeas_8  xmeas_9  xmeas_10  ...   xmv_2   xmv_3  \\\n",
       "run_id    sample                                       ...                   \n",
       "413402073 1        2704.3   74.863   120.41   0.33818  ...  53.744  24.657   \n",
       "          2        2705.0   75.000   120.41   0.33620  ...  53.414  24.588   \n",
       "          3        2706.2   74.771   120.42   0.33563  ...  54.357  24.666   \n",
       "          4        2707.2   75.224   120.39   0.33553  ...  53.946  24.725   \n",
       "          5        2705.1   75.388   120.39   0.32632  ...  53.658  28.797   \n",
       "\n",
       "                   xmv_4   xmv_5   xmv_6   xmv_7   xmv_8   xmv_9  xmv_10  \\\n",
       "run_id    sample                                                           \n",
       "413402073 1       62.544  22.137  39.935  42.323  47.757  47.510  41.258   \n",
       "          2       59.259  22.084  40.176  38.554  43.692  47.427  41.359   \n",
       "          3       61.275  22.380  40.244  38.990  46.699  47.468  41.199   \n",
       "          4       59.856  22.277  40.257  38.072  47.541  47.658  41.643   \n",
       "          5       60.717  21.947  39.144  41.955  47.645  47.346  41.507   \n",
       "\n",
       "                  xmv_11  \n",
       "run_id    sample          \n",
       "413402073 1       18.447  \n",
       "          2       17.194  \n",
       "          3       20.530  \n",
       "          4       18.089  \n",
       "          5       18.461  \n",
       "\n",
       "[5 rows x 52 columns]"
      ],
      "text/html": [
       "<div>\n",
       "<style scoped>\n",
       "    .dataframe tbody tr th:only-of-type {\n",
       "        vertical-align: middle;\n",
       "    }\n",
       "\n",
       "    .dataframe tbody tr th {\n",
       "        vertical-align: top;\n",
       "    }\n",
       "\n",
       "    .dataframe thead th {\n",
       "        text-align: right;\n",
       "    }\n",
       "</style>\n",
       "<table border=\"1\" class=\"dataframe\">\n",
       "  <thead>\n",
       "    <tr style=\"text-align: right;\">\n",
       "      <th></th>\n",
       "      <th></th>\n",
       "      <th>xmeas_1</th>\n",
       "      <th>xmeas_2</th>\n",
       "      <th>xmeas_3</th>\n",
       "      <th>xmeas_4</th>\n",
       "      <th>xmeas_5</th>\n",
       "      <th>xmeas_6</th>\n",
       "      <th>xmeas_7</th>\n",
       "      <th>xmeas_8</th>\n",
       "      <th>xmeas_9</th>\n",
       "      <th>xmeas_10</th>\n",
       "      <th>...</th>\n",
       "      <th>xmv_2</th>\n",
       "      <th>xmv_3</th>\n",
       "      <th>xmv_4</th>\n",
       "      <th>xmv_5</th>\n",
       "      <th>xmv_6</th>\n",
       "      <th>xmv_7</th>\n",
       "      <th>xmv_8</th>\n",
       "      <th>xmv_9</th>\n",
       "      <th>xmv_10</th>\n",
       "      <th>xmv_11</th>\n",
       "    </tr>\n",
       "    <tr>\n",
       "      <th>run_id</th>\n",
       "      <th>sample</th>\n",
       "      <th></th>\n",
       "      <th></th>\n",
       "      <th></th>\n",
       "      <th></th>\n",
       "      <th></th>\n",
       "      <th></th>\n",
       "      <th></th>\n",
       "      <th></th>\n",
       "      <th></th>\n",
       "      <th></th>\n",
       "      <th></th>\n",
       "      <th></th>\n",
       "      <th></th>\n",
       "      <th></th>\n",
       "      <th></th>\n",
       "      <th></th>\n",
       "      <th></th>\n",
       "      <th></th>\n",
       "      <th></th>\n",
       "      <th></th>\n",
       "      <th></th>\n",
       "    </tr>\n",
       "  </thead>\n",
       "  <tbody>\n",
       "    <tr>\n",
       "      <th rowspan=\"5\" valign=\"top\">413402073</th>\n",
       "      <th>1</th>\n",
       "      <td>0.25038</td>\n",
       "      <td>3674.0</td>\n",
       "      <td>4529.0</td>\n",
       "      <td>9.2320</td>\n",
       "      <td>26.889</td>\n",
       "      <td>42.402</td>\n",
       "      <td>2704.3</td>\n",
       "      <td>74.863</td>\n",
       "      <td>120.41</td>\n",
       "      <td>0.33818</td>\n",
       "      <td>...</td>\n",
       "      <td>53.744</td>\n",
       "      <td>24.657</td>\n",
       "      <td>62.544</td>\n",
       "      <td>22.137</td>\n",
       "      <td>39.935</td>\n",
       "      <td>42.323</td>\n",
       "      <td>47.757</td>\n",
       "      <td>47.510</td>\n",
       "      <td>41.258</td>\n",
       "      <td>18.447</td>\n",
       "    </tr>\n",
       "    <tr>\n",
       "      <th>2</th>\n",
       "      <td>0.25109</td>\n",
       "      <td>3659.4</td>\n",
       "      <td>4556.6</td>\n",
       "      <td>9.4264</td>\n",
       "      <td>26.721</td>\n",
       "      <td>42.576</td>\n",
       "      <td>2705.0</td>\n",
       "      <td>75.000</td>\n",
       "      <td>120.41</td>\n",
       "      <td>0.33620</td>\n",
       "      <td>...</td>\n",
       "      <td>53.414</td>\n",
       "      <td>24.588</td>\n",
       "      <td>59.259</td>\n",
       "      <td>22.084</td>\n",
       "      <td>40.176</td>\n",
       "      <td>38.554</td>\n",
       "      <td>43.692</td>\n",
       "      <td>47.427</td>\n",
       "      <td>41.359</td>\n",
       "      <td>17.194</td>\n",
       "    </tr>\n",
       "    <tr>\n",
       "      <th>3</th>\n",
       "      <td>0.25038</td>\n",
       "      <td>3660.3</td>\n",
       "      <td>4477.8</td>\n",
       "      <td>9.4426</td>\n",
       "      <td>26.875</td>\n",
       "      <td>42.070</td>\n",
       "      <td>2706.2</td>\n",
       "      <td>74.771</td>\n",
       "      <td>120.42</td>\n",
       "      <td>0.33563</td>\n",
       "      <td>...</td>\n",
       "      <td>54.357</td>\n",
       "      <td>24.666</td>\n",
       "      <td>61.275</td>\n",
       "      <td>22.380</td>\n",
       "      <td>40.244</td>\n",
       "      <td>38.990</td>\n",
       "      <td>46.699</td>\n",
       "      <td>47.468</td>\n",
       "      <td>41.199</td>\n",
       "      <td>20.530</td>\n",
       "    </tr>\n",
       "    <tr>\n",
       "      <th>4</th>\n",
       "      <td>0.24977</td>\n",
       "      <td>3661.3</td>\n",
       "      <td>4512.1</td>\n",
       "      <td>9.4776</td>\n",
       "      <td>26.758</td>\n",
       "      <td>42.063</td>\n",
       "      <td>2707.2</td>\n",
       "      <td>75.224</td>\n",
       "      <td>120.39</td>\n",
       "      <td>0.33553</td>\n",
       "      <td>...</td>\n",
       "      <td>53.946</td>\n",
       "      <td>24.725</td>\n",
       "      <td>59.856</td>\n",
       "      <td>22.277</td>\n",
       "      <td>40.257</td>\n",
       "      <td>38.072</td>\n",
       "      <td>47.541</td>\n",
       "      <td>47.658</td>\n",
       "      <td>41.643</td>\n",
       "      <td>18.089</td>\n",
       "    </tr>\n",
       "    <tr>\n",
       "      <th>5</th>\n",
       "      <td>0.29405</td>\n",
       "      <td>3679.0</td>\n",
       "      <td>4497.0</td>\n",
       "      <td>9.3381</td>\n",
       "      <td>26.889</td>\n",
       "      <td>42.650</td>\n",
       "      <td>2705.1</td>\n",
       "      <td>75.388</td>\n",
       "      <td>120.39</td>\n",
       "      <td>0.32632</td>\n",
       "      <td>...</td>\n",
       "      <td>53.658</td>\n",
       "      <td>28.797</td>\n",
       "      <td>60.717</td>\n",
       "      <td>21.947</td>\n",
       "      <td>39.144</td>\n",
       "      <td>41.955</td>\n",
       "      <td>47.645</td>\n",
       "      <td>47.346</td>\n",
       "      <td>41.507</td>\n",
       "      <td>18.461</td>\n",
       "    </tr>\n",
       "  </tbody>\n",
       "</table>\n",
       "<p>5 rows × 52 columns</p>\n",
       "</div>"
      ]
     },
     "execution_count": 3,
     "metadata": {},
     "output_type": "execute_result"
    }
   ],
   "execution_count": 3
  },
  {
   "cell_type": "code",
   "id": "fb65fefe-1d7d-4007-9905-dc2eca9429ea",
   "metadata": {
    "ExecuteTime": {
     "end_time": "2024-07-29T19:33:12.275767Z",
     "start_time": "2024-07-29T19:33:12.204164Z"
    }
   },
   "source": [
    "# стандартизация данных:\n",
    "scaler = StandardScaler()\n",
    "scaler.fit(dataset.df[dataset.train_mask])\n",
    "dataset.df[:] = scaler.transform(dataset.df)"
   ],
   "outputs": [],
   "execution_count": 4
  },
  {
   "cell_type": "code",
   "id": "e9beb506-192e-412d-8d3e-61a9e0f8f90b",
   "metadata": {
    "ExecuteTime": {
     "end_time": "2024-07-29T19:33:12.894246Z",
     "start_time": "2024-07-29T19:33:12.276700Z"
    }
   },
   "source": [
    "# даталоадер для обучения:\n",
    "train_dl = FDDDataloader(\n",
    "    dataframe=dataset.df,\n",
    "    mask=dataset.train_mask,\n",
    "    label=dataset.label,\n",
    "    window_size=10,\n",
    "    step_size=1,\n",
    "    use_minibatches=True,\n",
    "    batch_size=512,\n",
    "    shuffle=True\n",
    ")\n",
    "\n",
    "# даталоадер для теста:\n",
    "test_dl = FDDDataloader(\n",
    "    dataframe=dataset.df,\n",
    "    mask=dataset.test_mask,\n",
    "    label=dataset.label,\n",
    "    window_size=10,\n",
    "    step_size=1,\n",
    "    use_minibatches=True,\n",
    "    batch_size=512\n",
    ")\n",
    "\n",
    "# для измерения метрик:\n",
    "evaluator = FDDEvaluator(step_size=1)"
   ],
   "outputs": [
    {
     "name": "stderr",
     "output_type": "stream",
     "text": [
      "Creating sequence of samples: 100%|██████████| 105/105 [00:00<00:00, 5187.79it/s]\n",
      "Creating sequence of samples: 100%|██████████| 105/105 [00:00<00:00, 4956.30it/s]\n"
     ]
    }
   ],
   "execution_count": 5
  },
  {
   "cell_type": "markdown",
   "id": "8ef550af-dfef-4d5e-9441-193163c62f12",
   "metadata": {},
   "source": [
    "Параметры модели:"
   ]
  },
  {
   "cell_type": "code",
   "id": "975b49bc-21f6-4062-bd63-8f55ebded61b",
   "metadata": {
    "ExecuteTime": {
     "end_time": "2024-07-29T19:33:12.898183Z",
     "start_time": "2024-07-29T19:33:12.895317Z"
    }
   },
   "source": [
    "num_nodes = 52  # number of nodes\n",
    "window_size = 10  # window size\n",
    "ngnn = 1  # number of graph structure learning layers\n",
    "gsllayer = 'constant'  # type of graph structure learning layer ('relu', 'directed', 'unidirected', 'undirected', 'constant')\n",
    "nhidden = 256  # feature size in GCN layers\n",
    "alpha = 0.1  # hyperparameter for weights of edges\n",
    "k = None  # max number of edges for each node\n",
    "out_channels = 21  # number of process states"
   ],
   "outputs": [],
   "execution_count": 6
  },
  {
   "cell_type": "markdown",
   "id": "17183dc6-944c-41bf-92fd-44b179ab7c69",
   "metadata": {},
   "source": [
    "Создание модели:"
   ]
  },
  {
   "metadata": {
    "ExecuteTime": {
     "end_time": "2024-07-29T19:33:12.908245Z",
     "start_time": "2024-07-29T19:33:12.899539Z"
    }
   },
   "cell_type": "code",
   "source": [
    "matrix = dict()\n",
    "matrix[1] = [43]\n",
    "matrix[2] = [42]\n",
    "matrix[3] = [44]\n",
    "matrix[4] = [45]\n",
    "matrix[5] = [7, 20, 46]\n",
    "matrix[6] = [7, 8, 9]\n",
    "matrix[7] = [6, 45]\n",
    "matrix[8] = [6]\n",
    "matrix[9] = [9, 21, 46, 51]\n",
    "matrix[10] = [47]\n",
    "matrix[11] = [22, 48]\n",
    "matrix[12] = [22, 48]\n",
    "matrix[13] = [13, 22, 48]\n",
    "matrix[14] = [48]\n",
    "matrix[15] = [17, 48, 49, 50]\n",
    "matrix[16] = [17, 45, 50]\n",
    "matrix[18] = [17, 49, 50]\n",
    "matrix[19] = []\n",
    "matrix[20] = [5, 13]\n",
    "matrix[21] = [9, 51]\n",
    "matrix[22] = [11, 13, 48]\n",
    "matrix[23] = [42, 43, 44]\n",
    "matrix[24] = [42, 43, 44]\n",
    "matrix[25] = [42, 43, 44, 46]\n",
    "matrix[26] = [42, 43, 44, 46]\n",
    "matrix[27] = [42, 43, 44, 46]\n",
    "matrix[28] = [42, 43, 44]\n",
    "matrix[29] = [47]\n",
    "matrix[30] = [47]\n",
    "matrix[31] = [47]\n",
    "matrix[32] = [47]\n",
    "matrix[33] = [46, 47]\n",
    "matrix[34] = [46, 47]\n",
    "matrix[35] = [46, 47]\n",
    "matrix[36] = [47]\n",
    "matrix[37] = [49]\n",
    "matrix[38] = [49]\n",
    "matrix[39] = [49]\n",
    "matrix[40] = [49]\n",
    "matrix[41] = [49]\n",
    "\n",
    "matrix[42] = [2, 5, 6, 23, 24, 25, 26, 27, 28]\n",
    "matrix[43] = [1, 5, 6, 23, 24, 25, 26, 27, 28]\n",
    "matrix[44] = [3, 5, 6, 23, 24, 25, 26, 27, 28]\n",
    "matrix[45] = [4, 7, 15, 16, 17]\n",
    "matrix[46] = [5, 9, 25, 26, 27, 33, 34, 35]\n",
    "matrix[47] = [10, 29, 30, 31, 32, 33, 34, 35, 36]\n",
    "matrix[48] = [11, 12, 13, 14, 15, 22]\n",
    "matrix[49] = [15, 17, 18, 37, 38, 39, 40, 41]\n",
    "matrix[50] = [15, 16, 17, 18, 52]\n",
    "matrix[51] = [9, 21]\n",
    "matrix[52] = [17, 50]"
   ],
   "id": "f28cda764e635ca1",
   "outputs": [],
   "execution_count": 7
  },
  {
   "metadata": {
    "ExecuteTime": {
     "end_time": "2024-07-29T19:33:12.912974Z",
     "start_time": "2024-07-29T19:33:12.909346Z"
    }
   },
   "cell_type": "code",
   "source": [
    "num_nodes = max(matrix.keys())\n",
    "print(num_nodes)\n",
    "\n",
    "# Создать пустую матрицу smежности\n",
    "adj_matrix = np.zeros((num_nodes, num_nodes), dtype=int)\n",
    "\n",
    "# Заполнить матрицу на основе словаря\n",
    "for node, neighbors in matrix.items():\n",
    "    for neighbor in neighbors:\n",
    "        adj_matrix[node - 1, neighbor - 1] = 1  # -1,"
   ],
   "id": "d7d01aa53640d070",
   "outputs": [
    {
     "name": "stdout",
     "output_type": "stream",
     "text": [
      "52\n"
     ]
    }
   ],
   "execution_count": 8
  },
  {
   "cell_type": "code",
   "id": "575ee9a2-2653-4612-8478-89c9ddad6c02",
   "metadata": {
    "ExecuteTime": {
     "end_time": "2024-07-29T19:33:13.129953Z",
     "start_time": "2024-07-29T19:33:12.913891Z"
    }
   },
   "source": [
    "device = torch.device('cuda' if torch.cuda.is_available() else 'cpu')\n",
    "\n",
    "model = GNNTEP(num_nodes, window_size, ngnn, gsllayer, nhidden,\n",
    "               alpha, k, out_channels, device, adj_matrix)"
   ],
   "outputs": [
    {
     "ename": "TypeError",
     "evalue": "ConstantGraph.__init__() takes 1 positional argument but 2 were given",
     "output_type": "error",
     "traceback": [
      "\u001B[0;31m---------------------------------------------------------------------------\u001B[0m",
      "\u001B[0;31mTypeError\u001B[0m                                 Traceback (most recent call last)",
      "Cell \u001B[0;32mIn[9], line 3\u001B[0m\n\u001B[1;32m      1\u001B[0m device \u001B[38;5;241m=\u001B[39m torch\u001B[38;5;241m.\u001B[39mdevice(\u001B[38;5;124m'\u001B[39m\u001B[38;5;124mcuda\u001B[39m\u001B[38;5;124m'\u001B[39m \u001B[38;5;28;01mif\u001B[39;00m torch\u001B[38;5;241m.\u001B[39mcuda\u001B[38;5;241m.\u001B[39mis_available() \u001B[38;5;28;01melse\u001B[39;00m \u001B[38;5;124m'\u001B[39m\u001B[38;5;124mcpu\u001B[39m\u001B[38;5;124m'\u001B[39m)\n\u001B[0;32m----> 3\u001B[0m model \u001B[38;5;241m=\u001B[39m \u001B[43mGNNTEP\u001B[49m\u001B[43m(\u001B[49m\u001B[43mnum_nodes\u001B[49m\u001B[43m,\u001B[49m\u001B[43m \u001B[49m\u001B[43mwindow_size\u001B[49m\u001B[43m,\u001B[49m\u001B[43m \u001B[49m\u001B[43mngnn\u001B[49m\u001B[43m,\u001B[49m\u001B[43m \u001B[49m\u001B[43mgsllayer\u001B[49m\u001B[43m,\u001B[49m\u001B[43m \u001B[49m\u001B[43mnhidden\u001B[49m\u001B[43m,\u001B[49m\n\u001B[1;32m      4\u001B[0m \u001B[43m               \u001B[49m\u001B[43malpha\u001B[49m\u001B[43m,\u001B[49m\u001B[43m \u001B[49m\u001B[43mk\u001B[49m\u001B[43m,\u001B[49m\u001B[43m \u001B[49m\u001B[43mout_channels\u001B[49m\u001B[43m,\u001B[49m\u001B[43m \u001B[49m\u001B[43mdevice\u001B[49m\u001B[43m,\u001B[49m\u001B[43m \u001B[49m\u001B[43madj_matrix\u001B[49m\u001B[43m)\u001B[49m\n",
      "File \u001B[0;32m~/DataspellProjects/studcamp_project/models.py:45\u001B[0m, in \u001B[0;36mGNNTEP.__init__\u001B[0;34m(self, nnodes, window_size, ngnn, gsllayer, nhidden, alpha, k, out_channels, device, constant_adj_matrix)\u001B[0m\n\u001B[1;32m     43\u001B[0m     \u001B[38;5;28mself\u001B[39m\u001B[38;5;241m.\u001B[39mgraph_struct\u001B[38;5;241m.\u001B[39mappend(Graph_Undirected_A(nnodes, window_size, alpha, k, device))\n\u001B[1;32m     44\u001B[0m \u001B[38;5;28;01melif\u001B[39;00m gsllayer \u001B[38;5;241m==\u001B[39m \u001B[38;5;124m'\u001B[39m\u001B[38;5;124mconstant\u001B[39m\u001B[38;5;124m'\u001B[39m:\n\u001B[0;32m---> 45\u001B[0m     \u001B[38;5;28mself\u001B[39m\u001B[38;5;241m.\u001B[39mgraph_struct\u001B[38;5;241m.\u001B[39mappend(\u001B[43mConstantGraph\u001B[49m\u001B[43m(\u001B[49m\u001B[38;5;28;43mself\u001B[39;49m\u001B[38;5;241;43m.\u001B[39;49m\u001B[43mconstant_adj_matrix\u001B[49m\u001B[43m)\u001B[49m)\n\u001B[1;32m     47\u001B[0m \u001B[38;5;28;01melse\u001B[39;00m:\n\u001B[1;32m     48\u001B[0m     \u001B[38;5;28mprint\u001B[39m(\u001B[38;5;124m'\u001B[39m\u001B[38;5;124mWrong name of graph structure learning layer!\u001B[39m\u001B[38;5;124m'\u001B[39m)\n",
      "File \u001B[0;32m~/VSCodeProjects/mop/.conda/lib/python3.11/site-packages/torch/nn/modules/module.py:438\u001B[0m, in \u001B[0;36mModule.__init__\u001B[0;34m(self, *args, **kwargs)\u001B[0m\n\u001B[1;32m    434\u001B[0m     \u001B[38;5;28;01mraise\u001B[39;00m \u001B[38;5;167;01mTypeError\u001B[39;00m(\u001B[38;5;124m\"\u001B[39m\u001B[38;5;132;01m{}\u001B[39;00m\u001B[38;5;124m.__init__() got an unexpected keyword argument \u001B[39m\u001B[38;5;124m'\u001B[39m\u001B[38;5;132;01m{}\u001B[39;00m\u001B[38;5;124m'\u001B[39m\u001B[38;5;124m\"\u001B[39m\n\u001B[1;32m    435\u001B[0m                     \u001B[38;5;124m\"\u001B[39m\u001B[38;5;124m\"\u001B[39m\u001B[38;5;241m.\u001B[39mformat(\u001B[38;5;28mtype\u001B[39m(\u001B[38;5;28mself\u001B[39m)\u001B[38;5;241m.\u001B[39m\u001B[38;5;18m__name__\u001B[39m, \u001B[38;5;28mnext\u001B[39m(\u001B[38;5;28miter\u001B[39m(kwargs))))\n\u001B[1;32m    437\u001B[0m \u001B[38;5;28;01mif\u001B[39;00m \u001B[38;5;28mself\u001B[39m\u001B[38;5;241m.\u001B[39mcall_super_init \u001B[38;5;129;01mis\u001B[39;00m \u001B[38;5;28;01mFalse\u001B[39;00m \u001B[38;5;129;01mand\u001B[39;00m \u001B[38;5;28mbool\u001B[39m(args):\n\u001B[0;32m--> 438\u001B[0m     \u001B[38;5;28;01mraise\u001B[39;00m \u001B[38;5;167;01mTypeError\u001B[39;00m(\u001B[38;5;124mf\u001B[39m\u001B[38;5;124m\"\u001B[39m\u001B[38;5;132;01m{\u001B[39;00m\u001B[38;5;28mtype\u001B[39m(\u001B[38;5;28mself\u001B[39m)\u001B[38;5;241m.\u001B[39m\u001B[38;5;18m__name__\u001B[39m\u001B[38;5;132;01m}\u001B[39;00m\u001B[38;5;124m.__init__() takes 1 positional argument but \u001B[39m\u001B[38;5;132;01m{\u001B[39;00m\u001B[38;5;28mlen\u001B[39m(args)\u001B[38;5;250m \u001B[39m\u001B[38;5;241m+\u001B[39m\u001B[38;5;250m \u001B[39m\u001B[38;5;241m1\u001B[39m\u001B[38;5;132;01m}\u001B[39;00m\u001B[38;5;124m were\u001B[39m\u001B[38;5;124m\"\u001B[39m\n\u001B[1;32m    439\u001B[0m                     \u001B[38;5;124m\"\u001B[39m\u001B[38;5;124m given\u001B[39m\u001B[38;5;124m\"\u001B[39m)\n\u001B[1;32m    441\u001B[0m \u001B[38;5;250m\u001B[39m\u001B[38;5;124;03m\"\"\"\u001B[39;00m\n\u001B[1;32m    442\u001B[0m \u001B[38;5;124;03mCalls super().__setattr__('a', a) instead of the typical self.a = a\u001B[39;00m\n\u001B[1;32m    443\u001B[0m \u001B[38;5;124;03mto avoid Module.__setattr__ overhead. Module's __setattr__ has special\u001B[39;00m\n\u001B[1;32m    444\u001B[0m \u001B[38;5;124;03mhandling for parameters, submodules, and buffers but simply calls into\u001B[39;00m\n\u001B[1;32m    445\u001B[0m \u001B[38;5;124;03msuper().__setattr__ for all other attributes.\u001B[39;00m\n\u001B[1;32m    446\u001B[0m \u001B[38;5;124;03m\"\"\"\u001B[39;00m\n\u001B[1;32m    447\u001B[0m \u001B[38;5;28msuper\u001B[39m()\u001B[38;5;241m.\u001B[39m\u001B[38;5;21m__setattr__\u001B[39m(\u001B[38;5;124m'\u001B[39m\u001B[38;5;124mtraining\u001B[39m\u001B[38;5;124m'\u001B[39m, \u001B[38;5;28;01mTrue\u001B[39;00m)\n",
      "\u001B[0;31mTypeError\u001B[0m: ConstantGraph.__init__() takes 1 positional argument but 2 were given"
     ]
    }
   ],
   "execution_count": 9
  },
  {
   "cell_type": "markdown",
   "id": "398659e3-8385-427e-99fa-4328ec9edf23",
   "metadata": {},
   "source": [
    "Обучение:"
   ]
  },
  {
   "cell_type": "code",
   "id": "61868824-3130-4c01-b5f4-a0a4c09c783d",
   "metadata": {
    "ExecuteTime": {
     "end_time": "2024-07-29T19:33:13.131393Z",
     "start_time": "2024-07-29T19:33:13.131311Z"
    }
   },
   "source": [
    "model.to(device)\n",
    "opt = Adam(model.parameters(), lr=0.001)\n",
    "n_epochs = 10\n",
    "\n",
    "weight = torch.ones(21) * 0.5\n",
    "weight[1:] /= 20\n",
    "\n",
    "model.train()\n",
    "for e in range(n_epochs):\n",
    "    av_loss = []\n",
    "    for ts, _, label in tqdm(train_dl, desc='Steps ...', leave=False):\n",
    "        label = torch.LongTensor(label).to(device)\n",
    "        ts = torch.FloatTensor(ts).to(device)\n",
    "        ts = torch.transpose(ts, 1, 2)\n",
    "        logits = model(ts)\n",
    "        loss = F.cross_entropy(logits, label, weight=weight.to(device))\n",
    "        opt.zero_grad()\n",
    "        loss.backward()\n",
    "        opt.step()\n",
    "        av_loss.append(loss.item())\n",
    "    print(f'Epoch: {e + 1:2d}/{n_epochs}, average CE loss: {sum(av_loss) / len(av_loss):.4f}')"
   ],
   "outputs": [],
   "execution_count": null
  },
  {
   "cell_type": "markdown",
   "id": "a5c5b061-9a28-4d0e-ad01-3fca468521e7",
   "metadata": {},
   "source": [
    "Метрики:"
   ]
  },
  {
   "cell_type": "code",
   "id": "59074e1a-45fe-4654-a388-8adb6ef386c1",
   "metadata": {},
   "source": [
    "preds = []\n",
    "labels = []\n",
    "model.eval()\n",
    "for sample, index, label in test_dl:\n",
    "    sample = torch.FloatTensor(sample).to(device)\n",
    "    sample = torch.transpose(sample, 1, 2)\n",
    "    with torch.no_grad():\n",
    "        logits = model(sample)\n",
    "    pred = logits.argmax(axis=1).cpu().numpy()\n",
    "    preds.append(pd.Series(pred, index=index, name='pred'))\n",
    "    labels.append(pd.Series(label, index=index, name='pred'))\n",
    "preds = pd.concat(preds)\n",
    "labels = pd.concat(labels)\n",
    "\n",
    "metrics = evaluator.evaluate(labels, preds)\n",
    "acc = metrics['confusion_matrix'].diagonal().sum() / metrics['confusion_matrix'].sum()\n",
    "print(f'Accuracy: {acc:.4f}')"
   ],
   "outputs": [],
   "execution_count": null
  },
  {
   "cell_type": "code",
   "id": "8edf2b1f-37ae-4724-8e67-36bd91950391",
   "metadata": {},
   "source": [
    "metrics['detection']"
   ],
   "outputs": [],
   "execution_count": null
  },
  {
   "cell_type": "code",
   "id": "97fdf2a8-d02e-4f12-a895-0defa389741e",
   "metadata": {},
   "source": [],
   "outputs": [],
   "execution_count": null
  }
 ],
 "metadata": {
  "kernelspec": {
   "display_name": "Python 3 (ipykernel)",
   "language": "python",
   "name": "python3"
  },
  "language_info": {
   "codemirror_mode": {
    "name": "ipython",
    "version": 3
   },
   "file_extension": ".py",
   "mimetype": "text/x-python",
   "name": "python",
   "nbconvert_exporter": "python",
   "pygments_lexer": "ipython3",
   "version": "3.11.7"
  }
 },
 "nbformat": 4,
 "nbformat_minor": 5
}
